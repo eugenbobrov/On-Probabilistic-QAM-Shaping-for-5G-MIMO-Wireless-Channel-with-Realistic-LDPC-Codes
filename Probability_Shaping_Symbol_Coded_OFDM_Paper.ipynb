{
 "cells": [
  {
   "cell_type": "markdown",
   "metadata": {},
   "source": [
    "## Discover Sionna\n",
    "\n",
    "This example notebook will guide you through the basic principles and illustrates the key features of [Sionna](https://nvlabs.github.io/sionna).\n",
    "With only a few commands, you can simulate the PHY-layer link-level performance for many 5G-compliant components, including easy visualization of the results.\n"
   ]
  },
  {
   "cell_type": "markdown",
   "metadata": {},
   "source": [
    "### Load Required Packages\n",
    "\n",
    "The Sionna python package must be [installed](https://nvlabs.github.io/sionna/installation.html)."
   ]
  },
  {
   "cell_type": "code",
   "execution_count": 1,
   "metadata": {},
   "outputs": [],
   "source": [
    "import math\n",
    "import numpy as np\n",
    "import sionna as sn\n",
    "import tensorflow as tf\n",
    "\n",
    "import os.path\n",
    "\n",
    "np.set_printoptions(edgeitems=30, linewidth=100000,\n",
    "    formatter=dict(float=lambda x: \"%.3g\" % x))\n",
    "\n",
    "sn.config.xla_compat=True\n",
    "\n",
    "# IPython \"magic function\" for inline plots\n",
    "%matplotlib inline\n",
    "import matplotlib.pyplot as plt\n",
    "\n",
    "from tqdm.notebook import tqdm, trange\n",
    "\n",
    "from sionna.mimo import StreamManagement\n",
    "\n",
    "from sionna.ofdm import ResourceGrid, ResourceGridMapper, LSChannelEstimator, LMMSEEqualizer\n",
    "from sionna.ofdm import OFDMModulator, OFDMDemodulator, ZFPrecoder, RemoveNulledSubcarriers\n",
    "\n",
    "from sionna.channel.tr38901 import AntennaArray, CDL, Antenna, PanelArray\n",
    "from sionna.channel import subcarrier_frequencies, cir_to_ofdm_channel, cir_to_time_channel, time_lag_discrete_time_channel\n",
    "from sionna.channel import ApplyOFDMChannel, ApplyTimeChannel, OFDMChannel, TimeChannel\n",
    "\n",
    "from sionna.fec.ldpc import LDPC5GEncoder\n",
    "from sionna.fec.ldpc import LDPC5GDecoder\n",
    "\n",
    "from sionna.mapping import Mapper, Demapper\n",
    "\n",
    "from sionna.utils import BinarySource, ebnodb2no, sim_ber"
   ]
  },
  {
   "cell_type": "code",
   "execution_count": 2,
   "metadata": {},
   "outputs": [
    {
     "name": "stdout",
     "output_type": "stream",
     "text": [
      "Number of GPUs available : 0\n"
     ]
    }
   ],
   "source": [
    "# Configure the notebook to use only a single GPU and allocate only as much memory as needed\n",
    "# For more details, see https://www.tensorflow.org/guide/gpu\n",
    "gpus = tf.config.list_physical_devices('GPU')\n",
    "print('Number of GPUs available :', len(gpus))\n",
    "if gpus:\n",
    "    gpu_num = 0 # Index of the GPU to be used\n",
    "    try:\n",
    "        #tf.config.set_visible_devices([], 'GPU')\n",
    "        tf.config.set_visible_devices(gpus[gpu_num], 'GPU')\n",
    "        print('Only GPU number', gpu_num, 'used.')\n",
    "        tf.config.experimental.set_memory_growth(gpus[gpu_num], True)\n",
    "    except RuntimeError as e:\n",
    "        print(e)"
   ]
  },
  {
   "cell_type": "markdown",
   "metadata": {},
   "source": [
    "### First Link-level Simulation\n",
    "\n",
    "We can already build powerful code with a few simple commands.\n",
    "\n",
    "As mentioned earlier, Sionna aims at hiding system complexity into Keras layers.\n",
    "However, we still want to provide as much flexibility as possible.\n",
    "Thus, most layers have several choices of init parameters, but often the default choice is a good start.\n",
    "\n",
    "**Tip**: the [API documentation](https://nvlabs.github.io/sionna/api/sionna.html) provides many helpful references and implementation details."
   ]
  },
  {
   "cell_type": "markdown",
   "metadata": {},
   "source": [
    "## Probability Shaped OFDM System"
   ]
  },
  {
   "cell_type": "code",
   "execution_count": 3,
   "metadata": {},
   "outputs": [],
   "source": [
    "class CodedSystemOFDM(tf.keras.Model): # Inherits from Keras Model\n",
    "    def __init__(self, num_bits, n_sh, k_sh, n_ldpc, r,\n",
    "                    domain,\n",
    "                    direction,\n",
    "                    cdl_model,\n",
    "                    delay_spread,\n",
    "                    perfect_csi,\n",
    "                    speed,\n",
    "                    cyclic_prefix_length,\n",
    "                    pilot_ofdm_symbol_indices,\n",
    "                    subcarrier_spacing = 15e3):\n",
    "        \n",
    "        super().__init__() # Must call the Keras model initializer\n",
    "        \n",
    "        self.r = r\n",
    "        self.n_sh = n_sh\n",
    "        self.num_bits = num_bits\n",
    "        self.binary_source = sn.utils.BinarySource()\n",
    "        self.awgn_channel = sn.channel.AWGN()\n",
    "        self.constellation = sn.mapping.Constellation(\"qam\", num_bits, normalize=False)\n",
    "        self.bits = tf.convert_to_tensor([np.array(list(f\"{x:0{num_bits - 2}b}\"), np.float32)\n",
    "                                          for x in range(2 ** (num_bits - 2))])\n",
    "        \n",
    "\n",
    "        N_fr_ldpc, N_fr_sh = self.frames(n_ldpc, n_sh, num_bits)\n",
    "\n",
    "        self.N_fr_sh = N_fr_sh\n",
    "        r_sh = k_sh / n_sh\n",
    "        r_fec = (2 * r - r_sh + 1) / 2\n",
    "        k_ldpc = r_fec * n_ldpc\n",
    "                            \n",
    "        self.encoder = sn.fec.ldpc.encoding.LDPC5GEncoder(round(k_ldpc * N_fr_ldpc), n_ldpc * N_fr_ldpc)\n",
    "        self.decoder = sn.fec.ldpc.decoding.LDPC5GDecoder(self.encoder)\n",
    "\n",
    "        self.i = int(tf.where(self.encoder(tf.eye(round(k_ldpc * N_fr_ldpc)))[:, 0] == 1))\n",
    "        \n",
    "        self.k_sgn = round(k_ldpc * N_fr_ldpc) - n_sh * N_fr_sh\n",
    "        self.k_amp = n_sh * N_fr_sh\n",
    "\n",
    "        self.start_idx_a = self.k_sgn - self.i\n",
    "        self.end_idx_a = self.start_idx_a + self.k_amp\n",
    "        \n",
    "        print(\"start_idx_a\", self.start_idx_a)\n",
    "\n",
    "        #w = np.array([2 * n + 1 for n in range(2 ** (num_bits - 3))])\n",
    "        w = np.unique(np.abs(np.real(self.constellation.points)))\n",
    "        print(\"w\", w[0])\n",
    "        \n",
    "        fname = f\"probs/probs_qam{2 ** num_bits}_{k_sh}_{n_sh}.npy\"\n",
    "        if n_sh == k_sh:\n",
    "            probs = np.full(num_bits - 2, 1 / (num_bits - 2))\n",
    "        elif os.path.isfile(fname):\n",
    "            probs = np.load(fname)\n",
    "        else:\n",
    "            probs = self.shaper(k_sh, n_sh * 2 // (num_bits - 2), w[1:] ** 2)\n",
    "            np.save(fname, probs)\n",
    "\n",
    "        print(probs)\n",
    "        points = self.constellation.points[:(num_bits - 2) ** 2]\n",
    "        points = np.vstack((np.real(points), np.imag(points)))\n",
    "        \n",
    "        self.symbol_probs = points.copy()\n",
    "        for i, j in zip(w, range(num_bits - 2)):\n",
    "            self.symbol_probs[self.symbol_probs == i] = probs[j]\n",
    "            self.symbol_probs[self.symbol_probs == -i] = probs[j]\n",
    "\n",
    "        self.symbol_probs = self.symbol_probs.prod(axis=0)\n",
    "        \n",
    "        scaling = self.scaling_factor(np.tile(self.symbol_probs / 4, 4))\n",
    "        print(\"scaling\", scaling)\n",
    "        \n",
    "        \n",
    "        self.normed_constellation = sn.mapping.Constellation(\"qam\", num_bits)\n",
    "        initial_value = self.normed_constellation.points * scaling\n",
    "\n",
    "        self.scaled_constellation = sn.mapping.Constellation(\n",
    "            \"custom\", num_bits, initial_value, normalize=False)\n",
    "                        \n",
    "        if num_bits == 4:\n",
    "            priors = np.array([0.5, 0.5] + [self.symbol_probs[(self.bits[:, i] == 1).numpy()].sum()\n",
    "                                            for i in range(num_bits - 2)])\n",
    "            self.llr_priors = tf.math.log(priors) - tf.math.log(1 - priors)\n",
    "        else:\n",
    "            self.llr_priors = 0.\n",
    "       \n",
    "        self.mapper = sn.mapping.Mapper(constellation=self.scaled_constellation)\n",
    "        self.demapper = sn.mapping.DemapperWithPrior(\"app\", \n",
    "                            constellation=self.scaled_constellation)\n",
    "        \n",
    "        \n",
    "        # Provided parameters\n",
    "        self._domain = domain\n",
    "        self._direction = direction\n",
    "        self._cdl_model = cdl_model\n",
    "        self._delay_spread = delay_spread\n",
    "        self._perfect_csi = perfect_csi\n",
    "        self._speed = speed\n",
    "        self._cyclic_prefix_length = cyclic_prefix_length\n",
    "        self._pilot_ofdm_symbol_indices = pilot_ofdm_symbol_indices\n",
    "        \n",
    "        # System parameters\n",
    "        self._carrier_frequency = 2.6e9\n",
    "        self._subcarrier_spacing = subcarrier_spacing\n",
    "        self._fft_size = 44\n",
    "        self._num_ofdm_symbols = 14\n",
    "        self._num_ut_ant = 2 # Must be a multiple of two as dual-polarized antennas are used\n",
    "        self._num_bs_ant = 2 # Must be a multiple of two as dual-polarized antennas are used\n",
    "        self._num_streams_per_tx = self._num_ut_ant\n",
    "        self._dc_null = True\n",
    "        self._num_guard_carriers = [5, 6]\n",
    "        self._pilot_pattern = \"kronecker\"\n",
    "        self._pilot_ofdm_symbol_indices = pilot_ofdm_symbol_indices\n",
    "\n",
    "        # Required system components\n",
    "        self._sm = StreamManagement(np.array([[1]]), self._num_streams_per_tx)\n",
    "\n",
    "        self._rg = ResourceGrid(num_ofdm_symbols=self._num_ofdm_symbols,\n",
    "                                fft_size=self._fft_size,\n",
    "                                subcarrier_spacing = self._subcarrier_spacing,\n",
    "                                num_tx=1,\n",
    "                                num_streams_per_tx=self._num_streams_per_tx,\n",
    "                                cyclic_prefix_length=self._cyclic_prefix_length,\n",
    "                                num_guard_carriers=self._num_guard_carriers,\n",
    "                                dc_null=self._dc_null,\n",
    "                                pilot_pattern=self._pilot_pattern,\n",
    "                                pilot_ofdm_symbol_indices=self._pilot_ofdm_symbol_indices)\n",
    "        \n",
    "        self._ut_array = AntennaArray(num_rows=1,\n",
    "                                      num_cols=int(self._num_ut_ant/2),\n",
    "                                      polarization=\"dual\",\n",
    "                                      polarization_type=\"cross\",\n",
    "                                      antenna_pattern=\"38.901\",\n",
    "                                      carrier_frequency=self._carrier_frequency)\n",
    "\n",
    "        self._bs_array = AntennaArray(num_rows=1,\n",
    "                                      num_cols=int(self._num_bs_ant/2),\n",
    "                                      polarization=\"dual\",\n",
    "                                      polarization_type=\"cross\",\n",
    "                                      antenna_pattern=\"38.901\",\n",
    "                                      carrier_frequency=self._carrier_frequency)\n",
    "\n",
    "        self._cdl = CDL(model=self._cdl_model,\n",
    "                        delay_spread=self._delay_spread,\n",
    "                        carrier_frequency=self._carrier_frequency,\n",
    "                        ut_array=self._ut_array,\n",
    "                        bs_array=self._bs_array,\n",
    "                        direction=self._direction,\n",
    "                        min_speed=self._speed)\n",
    "        \n",
    "        self._frequencies = subcarrier_frequencies(self._rg.fft_size, self._rg.subcarrier_spacing)\n",
    "        \n",
    "        if self._domain == \"freq\":  \n",
    "            self._channel_freq = ApplyOFDMChannel(add_awgn=True)\n",
    "\n",
    "        elif self._domain == \"time\":\n",
    "            self._l_min, self._l_max = time_lag_discrete_time_channel(self._rg.bandwidth)\n",
    "            self._l_tot = self._l_max - self._l_min + 1\n",
    "            self._channel_time = ApplyTimeChannel(self._rg.num_time_samples,\n",
    "                                                  l_tot=self._l_tot,\n",
    "                                                  add_awgn=True)\n",
    "            self._modulator = OFDMModulator(self._cyclic_prefix_length)\n",
    "            self._demodulator = OFDMDemodulator(self._fft_size, self._l_min, self._cyclic_prefix_length)\n",
    "            \n",
    "        self._rg_mapper = ResourceGridMapper(self._rg)\n",
    "        \n",
    "        if self._direction == \"downlink\":\n",
    "            self._zf_precoder = ZFPrecoder(self._rg, self._sm, return_effective_channel=True)\n",
    "       \n",
    "        self._ls_est = LSChannelEstimator(self._rg, interpolation_type=\"nn\")\n",
    "        self._lmmse_equ = LMMSEEqualizer(self._rg, self._sm)\n",
    "        self._remove_nulled_scs = RemoveNulledSubcarriers(self._rg)\n",
    "         \n",
    "        self.stream_reshape = tf.keras.layers.Reshape((1, self._num_streams_per_tx,  -1))\n",
    "        self.transmit_reshape = tf.keras.layers.Reshape((1, self._num_streams_per_tx, num_bits, -1))\n",
    "        self.recieve_reshape = tf.keras.layers.Reshape((1, self._num_streams_per_tx, -1, num_bits))\n",
    "        self.permute = tf.keras.layers.Permute((1, 2, 4, 3))\n",
    "#        self.flatten = tf.keras.layers.Flatten()\n",
    "\n",
    "\n",
    "    @tf.function(jit_compile=True) # activate graph execution to speed things up\n",
    "    def __call__(self, batch_size, ebno_db):\n",
    "        no = sn.utils.ebnodb2no(ebno_db, self.num_bits, self.r)\n",
    "               \n",
    "        s = self.binary_source([batch_size, 1, self._num_streams_per_tx, self.k_sgn])\n",
    "        \n",
    "        log_symbol_probs = tf.ones((batch_size, self.symbol_probs.shape[0])) * tf.math.log(self.symbol_probs)\n",
    "        indxes = tf.random.categorical(log_symbol_probs,\n",
    "                    self.n_sh * self.N_fr_sh * self._num_streams_per_tx // (self.num_bits - 2))\n",
    "                    \n",
    "        a = self.stream_reshape(tf.gather(self.bits, indxes))\n",
    "        \n",
    "        b = tf.concat([s, a], axis=-1)\n",
    "        c = self.encoder(b)\n",
    "        d = tf.concat((c[..., :self.start_idx_a], c[..., self.end_idx_a:],\n",
    "                       c[..., self.start_idx_a:self.end_idx_a]), axis=-1)        \n",
    "        e = self.stream_reshape(self.permute(self.transmit_reshape(d)))\n",
    "        x = self.mapper(e)\n",
    "        \n",
    "        # OFDM\n",
    "        x_rg = self._rg_mapper(x)\n",
    "        \n",
    "        if self._domain == \"time\":\n",
    "            # Time-domain simulations\n",
    "            \n",
    "            a, tau = self._cdl(batch_size, self._rg.num_time_samples+self._l_tot-1, self._rg.bandwidth)\n",
    "            h_time = cir_to_time_channel(self._rg.bandwidth, a, tau,\n",
    "                                         l_min=self._l_min, l_max=self._l_max, normalize=True)\n",
    "            \n",
    "            # As precoding is done in the frequency domain, we need to downsample\n",
    "            # the path gains `a` to the OFDM symbol rate prior to converting the CIR\n",
    "            # to the channel frequency response.\n",
    "            a_freq = a[...,self._rg.cyclic_prefix_length:-1:(self._rg.fft_size+self._rg.cyclic_prefix_length)]\n",
    "            a_freq = a_freq[...,:self._rg.num_ofdm_symbols]\n",
    "            h_freq = cir_to_ofdm_channel(self._frequencies, a_freq, tau, normalize=True)\n",
    "            \n",
    "            if self._direction == \"downlink\":\n",
    "                x_rg, g = self._zf_precoder([x_rg, h_freq])\n",
    "            \n",
    "            x_time = self._modulator(x_rg)\n",
    "            y_time = self._channel_time([x_time, h_time, no])\n",
    "            \n",
    "            y = self._demodulator(y_time)\n",
    "            \n",
    "        elif self._domain == \"freq\":\n",
    "            # Frequency-domain simulations\n",
    "            \n",
    "            cir = self._cdl(batch_size, self._rg.num_ofdm_symbols, 1/self._rg.ofdm_symbol_duration)\n",
    "            h_freq = cir_to_ofdm_channel(self._frequencies, *cir, normalize=True)\n",
    "            \n",
    "            if self._direction == \"downlink\":\n",
    "                x_rg, g = self._zf_precoder([x_rg, h_freq])\n",
    "            \n",
    "            y = self._channel_freq([x_rg, h_freq, no])\n",
    "        \n",
    "        if self._perfect_csi:\n",
    "            if self._direction == \"uplink\":\n",
    "                h_hat = self._remove_nulled_scs(h_freq)\n",
    "            elif self._direction ==\"downlink\":\n",
    "                h_hat = g\n",
    "            err_var = 0.0            \n",
    "        else:\n",
    "            h_hat, err_var = self._ls_est ([y, no])\n",
    "        \n",
    "        x_hat, no_eff = self._lmmse_equ([y, h_hat, err_var, no])\n",
    "        \n",
    "        e_hat = self.demapper([x_hat, self.llr_priors, no_eff])\n",
    "        d_hat = self.stream_reshape(self.permute(self.recieve_reshape(e_hat)))              \n",
    "        c_hat = tf.concat((d_hat[..., :self.start_idx_a], d_hat[..., -self.k_amp:], \n",
    "                           d_hat[..., self.start_idx_a:self.start_idx_a\n",
    "                                 + d_hat.shape[-1] - self.end_idx_a]), axis=-1)\n",
    "        b_hat = self.decoder(c_hat)\n",
    "        return b, b_hat\n",
    "    \n",
    "    def q(self, l, m):\n",
    "        x = []\n",
    "        for i in l:\n",
    "            x.append(math.comb(m, i))\n",
    "            m -= i\n",
    "        return math.prod(x)\n",
    "\n",
    "    def shaper(self, k, m, w):\n",
    "        c = np.eye(w.shape[0], dtype=int)\n",
    "        a = np.zeros(w.shape[0], dtype=int)\n",
    "        d = np.zeros(w.shape[0], dtype=object)\n",
    "        s = self.q(a, m)\n",
    "        b = a + c\n",
    "\n",
    "        while s < 2 ** k:\n",
    "            i = (b * w).sum(axis=1).argmin()\n",
    "            a = b[i]\n",
    "            p = self.q(a, m)\n",
    "            d += a * p\n",
    "            s += p\n",
    "            b = np.vstack((b[:i], b[i + 1:]))\n",
    "            b = np.vstack((a + c, b))\n",
    "            b = b[b.sum(axis=1) <= m]\n",
    "            b = np.unique(b, axis=0)\n",
    "\n",
    "        x = d - (s - 2 ** k) * a\n",
    "        y = (x / 2 ** k / m).astype(float)\n",
    "        probs = np.hstack((1 - y.sum(), y))\n",
    "        return probs\n",
    "    \n",
    "    def scaling_factor(self, probs_list):\n",
    "        qam_power = np.sum(np.abs(self.constellation.points) ** 2) / self.constellation.points.shape[0]\n",
    "        return (qam_power / np.sum(probs_list * (np.abs(self.constellation.points) ** 2))) ** 0.5\n",
    "    \n",
    "    def frames(self, n_ldpc, n_sh, c):\n",
    "        lcm = (c * n_sh * n_ldpc // (c - 2)) // (math.gcd(c * n_sh // (c - 2), n_ldpc))\n",
    "        N_fr_ldpc = lcm // n_ldpc\n",
    "        N_fr_sh = lcm // (c * n_sh // (c - 2))\n",
    "        return N_fr_ldpc, N_fr_sh"
   ]
  },
  {
   "cell_type": "markdown",
   "metadata": {},
   "source": [
    "### Setting up the End-to-end Model\n",
    "\n",
    "We now define a *Keras model* that is more convenient for training and Monte-Carlo simulations.\n",
    "\n",
    "We simulate the transmission over a time-varying multi-path channel (the *TDL-A* model from 3GPP TR38.901).\n",
    "For this, OFDM and a *conventional* bit-interleaved coded modulation (BICM) scheme with higher order modulation is used.\n",
    "The information bits are protected by a 5G-compliant LDPC code.\n",
    "\n",
    "*Remark*: Due to the large number of parameters, we define them as dictionary."
   ]
  },
  {
   "cell_type": "markdown",
   "metadata": {},
   "source": [
    "Let us define the system parameters for our simulation as dictionary:"
   ]
  },
  {
   "cell_type": "markdown",
   "metadata": {},
   "source": [
    "...and initialize the model:"
   ]
  },
  {
   "cell_type": "markdown",
   "metadata": {},
   "source": [
    "As before, we can simply *call* the model to simulate the BER for the given simulation parameters."
   ]
  },
  {
   "cell_type": "markdown",
   "metadata": {},
   "source": [
    "### Run some Throughput Tests (Graph Mode)\n",
    "\n",
    "Sionna is not just an easy-to-use library, but also incredibly fast.\n",
    "Let us measure the throughput of the model defined above.\n",
    "\n",
    "We compare *eager* and *graph* execution modes (see [Tensorflow Doc](https://www.tensorflow.org/guide/intro_to_graphs) for details), as well\n",
    "as *eager with XLA* (see https://www.tensorflow.org/xla#enable_xla_for_tensorflow_models).\n",
    "Note that we need to activate the [sionna.config.xla_compat](https://nvlabs.github.io/sionna/api/config.html#sionna.Config.xla_compat) feature for XLA to work.\n",
    "\n",
    "\n",
    "**Tip**: change the `batch_size` to see how the batch parallelism enhances the throughput.\n",
    "Depending on your machine, the `batch_size` may be too large."
   ]
  },
  {
   "cell_type": "markdown",
   "metadata": {},
   "source": [
    "Obviously, *graph* execution (with XLA) yields much higher throughputs (at least if a fast GPU is available).\n",
    "Thus, for exhaustive training and Monte-Carlo simulations the *graph* mode (with XLA and GPU acceleration) is the preferred choice."
   ]
  },
  {
   "cell_type": "markdown",
   "metadata": {},
   "source": [
    "### Bit-Error Rate (BER) Monte-Carlo Simulations\n",
    "\n",
    "Monte-Carlo simulations are omnipresent in todays communications research and development.\n",
    "Due its performant implementation, Sionna can be directly used to simulate BER at a performance that competes with compiled languages -- but still keeps the flexibility of a script language."
   ]
  },
  {
   "cell_type": "code",
   "execution_count": 4,
   "metadata": {},
   "outputs": [
    {
     "data": {
      "text/plain": [
       "array([0.369, 0.424, 0.479, 0.54, 0.602, 0.643, 0.455, 0.505, 0.554, 0.602, 0.65, 0.702, 0.754, 0.803, 0.853, 0.667, 0.694, 0.736, 0.778, 0.821])"
      ]
     },
     "execution_count": 4,
     "metadata": {},
     "output_type": "execute_result"
    }
   ],
   "source": [
    "coderate_tab = np.array([378. , 434. , 490. , 553. ,\n",
    "       616. , 658. , 466. , 517. , 567. , 616. , 666. , 719. , 772. ,\n",
    "       822. , 873. , 682.5, 711. , 754. , 797. , 841. ]) / 1024\n",
    "coderate_tab"
   ]
  },
  {
   "cell_type": "code",
   "execution_count": 5,
   "metadata": {},
   "outputs": [],
   "source": [
    "order_tab = np.array([4, 4, 4, 4, 4, 4, 6, 6, 6, 6, 6, 6, 6, 6, 6, 8, 8, 8, 8, 8])"
   ]
  },
  {
   "cell_type": "code",
   "execution_count": 6,
   "metadata": {},
   "outputs": [],
   "source": [
    "UL_SIMS = {\n",
    "    \"coderate\" : coderate_tab,\n",
    "    \"num_bits_per_symbol\" : order_tab,\n",
    "    \"cdl_model\" : \"D\",\n",
    "    \"delay_spread\" : 40e-9,\n",
    "    \"domain\" : \"time\",\n",
    "    \"direction\" : \"uplink\",\n",
    "    \"perfect_csi\" : False,\n",
    "    \"speed\" : 0.0,\n",
    "    \"cyclic_prefix_length\" : 6,\n",
    "    \"pilot_ofdm_symbol_indices\" : [2, 11],\n",
    "    \"duration\" : None\n",
    "}"
   ]
  },
  {
   "cell_type": "code",
   "execution_count": 7,
   "metadata": {},
   "outputs": [
    {
     "data": {
      "text/plain": [
       "0.642578125"
      ]
     },
     "execution_count": 7,
     "metadata": {},
     "output_type": "execute_result"
    }
   ],
   "source": [
    "# # system parameters\n",
    "n_sh = 256\n",
    "k_sh = 192\n",
    "n_ldpc = 2 * 3\n",
    "num_bits = 4\n",
    "r = coderate_tab[5]\n",
    "constellation = sn.mapping.Constellation(\"qam\", num_bits, normalize=False)\n",
    "w = np.unique(np.abs(np.real(constellation.points)))\n",
    "\n",
    "r"
   ]
  },
  {
   "cell_type": "code",
   "execution_count": 8,
   "metadata": {},
   "outputs": [
    {
     "data": {
      "text/plain": [
       "0.75"
      ]
     },
     "execution_count": 8,
     "metadata": {},
     "output_type": "execute_result"
    }
   ],
   "source": [
    "r_sh = k_sh / n_sh\n",
    "r_sh"
   ]
  },
  {
   "cell_type": "code",
   "execution_count": 9,
   "metadata": {},
   "outputs": [
    {
     "data": {
      "text/plain": [
       "0.767578125"
      ]
     },
     "execution_count": 9,
     "metadata": {},
     "output_type": "execute_result"
    }
   ],
   "source": [
    "r_fec = (2 * r - r_sh + 1) / 2\n",
    "r_fec"
   ]
  },
  {
   "cell_type": "code",
   "execution_count": 12,
   "metadata": {
    "scrolled": true
   },
   "outputs": [
    {
     "name": "stdout",
     "output_type": "stream",
     "text": [
      "start_idx_a 299\n",
      "w 1.0\n",
      "[0.779 0.221]\n",
      "scaling 1.3443100801394239\n"
     ]
    }
   ],
   "source": [
    "model = CodedSystemOFDM(num_bits, n_sh, k_sh, n_ldpc, r,\n",
    "                        domain=UL_SIMS[\"domain\"],\n",
    "                        direction=UL_SIMS[\"direction\"],\n",
    "                        cdl_model=UL_SIMS[\"cdl_model\"],\n",
    "                        delay_spread=UL_SIMS[\"delay_spread\"],\n",
    "                        perfect_csi=UL_SIMS[\"perfect_csi\"],\n",
    "                        speed=UL_SIMS[\"speed\"],\n",
    "                        cyclic_prefix_length=UL_SIMS[\"cyclic_prefix_length\"],\n",
    "                        pilot_ofdm_symbol_indices=UL_SIMS[\"pilot_ofdm_symbol_indices\"])"
   ]
  },
  {
   "cell_type": "code",
   "execution_count": 13,
   "metadata": {},
   "outputs": [
    {
     "data": {
      "text/plain": [
       "1179"
      ]
     },
     "execution_count": 13,
     "metadata": {},
     "output_type": "execute_result"
    }
   ],
   "source": [
    "model.encoder.k"
   ]
  },
  {
   "cell_type": "code",
   "execution_count": 14,
   "metadata": {},
   "outputs": [
    {
     "data": {
      "text/plain": [
       "1536"
      ]
     },
     "execution_count": 14,
     "metadata": {},
     "output_type": "execute_result"
    }
   ],
   "source": [
    "model.encoder.n"
   ]
  },
  {
   "cell_type": "code",
   "execution_count": 15,
   "metadata": {},
   "outputs": [
    {
     "data": {
      "text/plain": [
       "987"
      ]
     },
     "execution_count": 15,
     "metadata": {},
     "output_type": "execute_result"
    }
   ],
   "source": [
    "int(model.encoder.n * r)"
   ]
  },
  {
   "cell_type": "code",
   "execution_count": 16,
   "metadata": {},
   "outputs": [
    {
     "data": {
      "text/plain": [
       "(4, 256, 192, 6, 0.642578125)"
      ]
     },
     "execution_count": 16,
     "metadata": {},
     "output_type": "execute_result"
    }
   ],
   "source": [
    "num_bits, n_sh, k_sh, n_ldpc, r"
   ]
  },
  {
   "cell_type": "code",
   "execution_count": 18,
   "metadata": {
    "scrolled": true
   },
   "outputs": [
    {
     "name": "stdout",
     "output_type": "stream",
     "text": [
      "start_idx_a 299\n",
      "w 1.0\n",
      "[0.779 0.221]\n",
      "scaling 1.3443100801394239\n",
      "WARNING:tensorflow:From C:\\Users\\e00627378\\AppData\\Roaming\\Python\\Python38\\site-packages\\tensorflow\\python\\util\\dispatch.py:1082: calling gather (from tensorflow.python.ops.array_ops) with validate_indices is deprecated and will be removed in a future version.\n",
      "Instructions for updating:\n",
      "The `validate_indices` argument has no effect. Indices are always validated on CPU and never validated on GPU.\n",
      "EbNo [dB] |        BER |       BLER |  bit errors |    num bits | block errors |  num blocks | runtime [s] |    status\n",
      "---------------------------------------------------------------------------------------------------------------------------------------\n",
      "      2.0 | 1.0539e-01 | 1.0000e+00 |      497006 |     4716000 |         4000 |        4000 |        30.3 |reached target bit errors\n",
      "      3.0 | 6.6634e-02 | 9.5700e-01 |      314246 |     4716000 |         3828 |        4000 |        12.8 |reached target bit errors\n",
      "      4.0 | 2.0227e-02 | 4.4550e-01 |       95391 |     4716000 |         1782 |        4000 |        12.4 |reached target bit errors\n",
      "      5.0 | 2.6064e-03 | 6.6250e-02 |       12292 |     4716000 |          265 |        4000 |        12.6 |reached target bit errors\n",
      "      6.0 | 5.7897e-04 | 1.1900e-02 |       13652 |    23580000 |          238 |       20000 |        63.6 |reached target bit errors\n",
      "      7.0 | 1.0249e-04 | 2.0000e-03 |       10150 |    99036000 |          168 |       84000 |       267.9 |reached target bit errors\n"
     ]
    }
   ],
   "source": [
    "ebno_dbs = np.arange(2, 8, 1)\n",
    "batch_size = 2000 # reduce in case you receive an out-of-memory (OOM) error\n",
    "\n",
    "max_mc_iter = 100 # max number of Monte-Carlo iterations before going to next SNR point\n",
    "num_target_block_errors = 10000 # continue with next SNR point after target number of block errors\n",
    "\n",
    "r_sh = k_sh / n_sh\n",
    "r_fec = (2 * r - r_sh + 1) / 2\n",
    "\n",
    "if r_fec < 11/12:\n",
    "\n",
    "    model = CodedSystemOFDM(num_bits, n_sh, k_sh, n_ldpc, r,\n",
    "                            domain=UL_SIMS[\"domain\"],\n",
    "                            direction=UL_SIMS[\"direction\"],\n",
    "                            cdl_model=UL_SIMS[\"cdl_model\"],\n",
    "                            delay_spread=UL_SIMS[\"delay_spread\"],\n",
    "                            perfect_csi=UL_SIMS[\"perfect_csi\"],\n",
    "                            speed=UL_SIMS[\"speed\"],\n",
    "                            cyclic_prefix_length=UL_SIMS[\"cyclic_prefix_length\"],\n",
    "                            pilot_ofdm_symbol_indices=UL_SIMS[\"pilot_ofdm_symbol_indices\"])\n",
    "\n",
    "    if model.start_idx_a > 0:\n",
    "        # we use the built-in ber simulator function from Sionna which uses and early stop after reaching num_target_errors\n",
    "        sn.config.xla_compat=True\n",
    "        ber_ps, bler_ps = sn.utils.sim_ber(model,\n",
    "                                  ebno_dbs,\n",
    "                                  batch_size,\n",
    "                                  max_mc_iter,\n",
    "                                  False,\n",
    "                                  num_target_block_errors,\n",
    "                                  verbose=True)\n",
    "\n",
    "else:\n",
    "    print(\"r_fec > 11/12, rfec =\", r_fec)"
   ]
  },
  {
   "cell_type": "markdown",
   "metadata": {},
   "source": [
    "# Let's look at the results\n",
    "\n",
    "### The experiment was calculated for about 8 hours"
   ]
  },
  {
   "cell_type": "code",
   "execution_count": 15,
   "metadata": {
    "scrolled": false
   },
   "outputs": [
    {
     "data": {
      "text/plain": [
       "array([0.455, 0.505, 0.554, 0.602, 0.65, 0.702, 0.754, 0.803, 0.853])"
      ]
     },
     "execution_count": 15,
     "metadata": {},
     "output_type": "execute_result"
    }
   ],
   "source": [
    "coderate_tab[6:-5]"
   ]
  },
  {
   "cell_type": "code",
   "execution_count": 16,
   "metadata": {},
   "outputs": [
    {
     "data": {
      "text/plain": [
       "array([128, 144, 160, 176, 192, 208, 224, 240, 256])"
      ]
     },
     "execution_count": 16,
     "metadata": {},
     "output_type": "execute_result"
    }
   ],
   "source": [
    "np.arange(128, 257, 16)"
   ]
  },
  {
   "cell_type": "code",
   "execution_count": 17,
   "metadata": {
    "scrolled": true
   },
   "outputs": [
    {
     "data": {
      "application/vnd.jupyter.widget-view+json": {
       "model_id": "359ed19641ae4c18bc7bd749dcea13da",
       "version_major": 2,
       "version_minor": 0
      },
      "text/plain": [
       "  0%|          | 0/9 [00:00<?, ?it/s]"
      ]
     },
     "metadata": {},
     "output_type": "display_data"
    },
    {
     "name": "stdout",
     "output_type": "stream",
     "text": [
      "start_idx_a 475\n",
      "w 1.0\n",
      "[0.885 0.115]\n",
      "scaling 1.6139780359343814\n",
      "WARNING:tensorflow:From C:\\Users\\e00627378\\AppData\\Roaming\\Python\\Python38\\site-packages\\tensorflow\\python\\util\\dispatch.py:1082: calling gather (from tensorflow.python.ops.array_ops) with validate_indices is deprecated and will be removed in a future version.\n",
      "Instructions for updating:\n",
      "The `validate_indices` argument has no effect. Indices are always validated on CPU and never validated on GPU.\n",
      "EbNo [dB] |        BER |       BLER |  bit errors |    num bits | block errors |  num blocks | runtime [s] |    status\n",
      "---------------------------------------------------------------------------------------------------------------------------------------\n",
      "      2.0 | 8.2036e-02 | 1.0000e+00 |     1124717 |    13710000 |        10000 |       10000 |        35.5 |reached target block errors\n",
      "      3.0 | 6.0487e-02 | 9.9492e-01 |      995132 |    16452000 |        11939 |       12000 |        25.5 |reached target block errors\n",
      "      4.0 | 2.8823e-02 | 7.4521e-01 |      553230 |    19194000 |        10433 |       14000 |        29.8 |reached target block errors\n",
      "      5.0 | 6.1210e-03 | 2.0604e-01 |      419597 |    68550000 |        10302 |       50000 |       102.5 |reached target block errors\n",
      "      6.0 | 8.2617e-04 | 2.8150e-02 |      226536 |   274200000 |         5630 |      200000 |       410.8 |reached max iter       \n",
      "      7.0 | 1.3555e-04 | 4.1550e-03 |       37167 |   274200000 |          831 |      200000 |       409.8 |reached max iter       \n",
      "      8.0 | 3.8089e-05 | 9.9000e-04 |       10444 |   274200000 |          198 |      200000 |       409.5 |reached max iter       \n",
      "      9.0 | 7.9468e-06 | 2.5000e-04 |        2179 |   274200000 |           50 |      200000 |       409.0 |reached max iter       \n",
      "     10.0 | 1.8089e-06 | 3.5000e-05 |         496 |   274200000 |            7 |      200000 |       409.7 |reached max iter       \n",
      "     11.0 | 5.9446e-07 | 1.0000e-05 |         163 |   274200000 |            2 |      200000 |       408.6 |reached max iter       \n",
      "     12.0 | 4.9599e-07 | 1.5000e-05 |         136 |   274200000 |            3 |      200000 |       411.2 |reached max iter       \n",
      "start_idx_a 427\n",
      "w 1.0\n",
      "[0.863 0.137]\n",
      "scaling 1.5457494820114803\n",
      "EbNo [dB] |        BER |       BLER |  bit errors |    num bits | block errors |  num blocks | runtime [s] |    status\n",
      "---------------------------------------------------------------------------------------------------------------------------------------\n",
      "      2.0 | 8.9178e-02 | 1.0000e+00 |     1179820 |    13230000 |        10000 |       10000 |        28.8 |reached target block errors\n",
      "      3.0 | 6.1599e-02 | 9.8117e-01 |      977948 |    15876000 |        11774 |       12000 |        24.7 |reached target block errors\n",
      "      4.0 | 2.3445e-02 | 5.9244e-01 |      558314 |    23814000 |        10664 |       18000 |        37.0 |reached target block errors\n",
      "      5.0 | 3.7404e-03 | 1.1660e-01 |      425579 |   113778000 |        10028 |       86000 |       176.7 |reached target block errors\n",
      "      6.0 | 4.9701e-04 | 1.4585e-02 |      131508 |   264600000 |         2917 |      200000 |       411.6 |reached max iter       \n",
      "      7.0 | 8.3337e-05 | 2.4000e-03 |       22051 |   264600000 |          480 |      200000 |       415.0 |reached max iter       \n",
      "      8.0 | 2.0219e-05 | 5.2500e-04 |        5350 |   264600000 |          105 |      200000 |       411.7 |reached max iter       \n",
      "      9.0 | 4.2139e-06 | 1.1000e-04 |        1115 |   264600000 |           22 |      200000 |       411.5 |reached max iter       \n",
      "     10.0 | 2.3810e-06 | 5.5000e-05 |         630 |   264600000 |           11 |      200000 |       410.4 |reached max iter       \n",
      "     11.0 | 7.4830e-07 | 1.5000e-05 |         198 |   264600000 |            3 |      200000 |       410.3 |reached max iter       \n",
      "     12.0 | 4.0438e-07 | 1.5000e-05 |         107 |   264600000 |            3 |      200000 |       410.4 |reached max iter       \n",
      "start_idx_a 387\n",
      "w 1.0\n",
      "[0.838 0.162]\n",
      "scaling 1.476160814698186\n",
      "EbNo [dB] |        BER |       BLER |  bit errors |    num bits | block errors |  num blocks | runtime [s] |    status\n",
      "---------------------------------------------------------------------------------------------------------------------------------------\n",
      "      2.0 | 9.0131e-02 | 1.0000e+00 |     1149171 |    12750000 |        10000 |       10000 |        29.0 |reached target block errors\n",
      "      3.0 | 5.8024e-02 | 9.6508e-01 |      887763 |    15300000 |        11581 |       12000 |        24.8 |reached target block errors\n",
      "      4.0 | 1.8461e-02 | 5.0045e-01 |      517823 |    28050000 |        11010 |       22000 |        45.3 |reached target block errors\n",
      "      5.0 | 2.6760e-03 | 8.6102e-02 |      402604 |   150450000 |        10160 |      118000 |       243.3 |reached target block errors\n",
      "      6.0 | 4.0291e-04 | 1.1680e-02 |      102741 |   255000000 |         2336 |      200000 |       413.0 |reached max iter       \n",
      "      7.0 | 7.7208e-05 | 2.1300e-03 |       19688 |   255000000 |          426 |      200000 |       413.0 |reached max iter       \n",
      "      8.0 | 1.6631e-05 | 4.0000e-04 |        4241 |   255000000 |           80 |      200000 |       413.4 |reached max iter       \n",
      "      9.0 | 4.1255e-06 | 1.2000e-04 |        1052 |   255000000 |           24 |      200000 |       413.2 |reached max iter       \n",
      "     10.0 | 7.9216e-07 | 1.5000e-05 |         202 |   255000000 |            3 |      200000 |       414.3 |reached max iter       \n",
      "     11.0 | 2.4314e-07 | 5.0000e-06 |          62 |   255000000 |            1 |      200000 |       414.9 |reached max iter       \n",
      "     12.0 | 0.0000e+00 | 0.0000e+00 |           0 |   255000000 |            0 |      200000 |       414.3 |reached max iter       \n",
      "\n",
      "Simulation stopped as no error occurred @ EbNo = 12.0 dB.\n",
      "\n",
      "start_idx_a 347\n",
      "w 1.0\n",
      "[0.811 0.189]\n",
      "scaling 1.409822904305466\n",
      "EbNo [dB] |        BER |       BLER |  bit errors |    num bits | block errors |  num blocks | runtime [s] |    status\n",
      "---------------------------------------------------------------------------------------------------------------------------------------\n",
      "      2.0 | 9.3350e-02 | 1.0000e+00 |     1145404 |    12270000 |        10000 |       10000 |        29.1 |reached target block errors\n",
      "      3.0 | 5.9357e-02 | 9.5258e-01 |      873969 |    14724000 |        11431 |       12000 |        25.1 |reached target block errors\n",
      "      4.0 | 1.8065e-02 | 4.6014e-01 |      487634 |    26994000 |        10123 |       22000 |        45.7 |reached target block errors\n",
      "      5.0 | 2.4100e-03 | 6.9199e-02 |      431736 |   179142000 |        10103 |      146000 |       303.9 |reached target block errors\n",
      "      6.0 | 3.7894e-04 | 9.6100e-03 |       92993 |   245400000 |         1922 |      200000 |       416.9 |reached max iter       \n",
      "      7.0 | 8.1858e-05 | 1.8950e-03 |       20088 |   245400000 |          379 |      200000 |       416.9 |reached max iter       \n",
      "      8.0 | 2.1817e-05 | 4.4500e-04 |        5354 |   245400000 |           89 |      200000 |       417.0 |reached max iter       \n",
      "      9.0 | 4.3113e-06 | 9.5000e-05 |        1058 |   245400000 |           19 |      200000 |       416.3 |reached max iter       \n",
      "     10.0 | 3.4597e-06 | 6.5000e-05 |         849 |   245400000 |           13 |      200000 |       416.5 |reached max iter       \n",
      "     11.0 | 2.8077e-06 | 3.5000e-05 |         689 |   245400000 |            7 |      200000 |       415.7 |reached max iter       \n",
      "     12.0 | 1.5403e-06 | 1.0000e-05 |         378 |   245400000 |            2 |      200000 |       415.8 |reached max iter       \n",
      "start_idx_a 299\n",
      "w 1.0\n",
      "[0.779 0.221]\n",
      "scaling 1.3443100801394239\n",
      "EbNo [dB] |        BER |       BLER |  bit errors |    num bits | block errors |  num blocks | runtime [s] |    status\n",
      "---------------------------------------------------------------------------------------------------------------------------------------\n",
      "      2.0 | 1.0416e-01 | 9.9983e-01 |     1473628 |    14148000 |        11998 |       12000 |        33.7 |reached target block errors\n",
      "      3.0 | 6.4784e-02 | 9.5075e-01 |      916562 |    14148000 |        11409 |       12000 |        25.2 |reached target block errors\n",
      "      4.0 | 1.8614e-02 | 4.3517e-01 |      526688 |    28296000 |        10444 |       24000 |        50.7 |reached target block errors\n",
      "      5.0 | 2.4593e-03 | 6.4244e-02 |      452316 |   183924000 |        10022 |      156000 |       328.6 |reached target block errors\n",
      "      6.0 | 3.8883e-04 | 8.8350e-03 |       91687 |   235800000 |         1767 |      200000 |       421.9 |reached max iter       \n",
      "      7.0 | 7.4792e-05 | 1.6400e-03 |       17636 |   235800000 |          328 |      200000 |       421.8 |reached max iter       \n",
      "      8.0 | 1.8537e-05 | 3.7000e-04 |        4371 |   235800000 |           74 |      200000 |       421.9 |reached max iter       \n",
      "      9.0 | 5.5047e-06 | 1.0000e-04 |        1298 |   235800000 |           20 |      200000 |       422.0 |reached max iter       \n",
      "     10.0 | 2.2477e-06 | 4.5000e-05 |         530 |   235800000 |            9 |      200000 |       422.5 |reached max iter       \n",
      "     11.0 | 1.1450e-06 | 2.0000e-05 |         270 |   235800000 |            4 |      200000 |       421.7 |reached max iter       \n",
      "     12.0 | 1.0602e-07 | 5.0000e-06 |          25 |   235800000 |            1 |      200000 |       421.8 |reached max iter       \n",
      "start_idx_a 259\n",
      "w 1.0\n",
      "[0.742 0.258]\n",
      "scaling 1.2771614204201571\n",
      "EbNo [dB] |        BER |       BLER |  bit errors |    num bits | block errors |  num blocks | runtime [s] |    status\n",
      "---------------------------------------------------------------------------------------------------------------------------------------\n",
      "      2.0 | 1.1955e-01 | 1.0000e+00 |     1352136 |    11310000 |        10000 |       10000 |        29.7 |reached target block errors\n",
      "      3.0 | 7.8906e-02 | 9.6217e-01 |     1070919 |    13572000 |        11546 |       12000 |        25.5 |reached target block errors\n",
      "      4.0 | 2.4936e-02 | 4.6127e-01 |      620466 |    24882000 |        10148 |       22000 |        46.8 |reached target block errors\n",
      "      5.0 | 3.3185e-03 | 6.8952e-02 |      547968 |   165126000 |        10067 |      146000 |       311.1 |reached target block errors\n",
      "      6.0 | 4.8607e-04 | 9.0050e-03 |      109950 |   226200000 |         1801 |      200000 |       426.4 |reached max iter       \n",
      "      7.0 | 1.0825e-04 | 1.8000e-03 |       24487 |   226200000 |          360 |      200000 |       425.9 |reached max iter       \n",
      "      8.0 | 2.3470e-05 | 4.0000e-04 |        5309 |   226200000 |           80 |      200000 |       425.5 |reached max iter       \n",
      "      9.0 | 8.2980e-06 | 1.2500e-04 |        1877 |   226200000 |           25 |      200000 |       426.4 |reached max iter       \n",
      "     10.0 | 2.4801e-06 | 2.5000e-05 |         561 |   226200000 |            5 |      200000 |       425.8 |reached max iter       \n",
      "     11.0 | 1.6490e-06 | 3.0000e-05 |         373 |   226200000 |            6 |      200000 |       426.2 |reached max iter       \n",
      "     12.0 | 4.8630e-07 | 5.0000e-06 |         110 |   226200000 |            1 |      200000 |       425.9 |reached max iter       \n",
      "start_idx_a 211\n",
      "w 1.0\n",
      "[0.697 0.303]\n",
      "scaling 1.2080966556544956\n",
      "EbNo [dB] |        BER |       BLER |  bit errors |    num bits | block errors |  num blocks | runtime [s] |    status\n",
      "---------------------------------------------------------------------------------------------------------------------------------------\n",
      "      2.0 | 1.3076e-01 | 9.9992e-01 |     1699415 |    12996000 |        11999 |       12000 |        34.1 |reached target block errors\n",
      "      3.0 | 8.8412e-02 | 9.7092e-01 |     1149002 |    12996000 |        11651 |       12000 |        25.8 |reached target block errors\n",
      "      4.0 | 2.9410e-02 | 4.9495e-01 |      700715 |    23826000 |        10889 |       22000 |        47.5 |reached target block errors\n",
      "      5.0 | 4.0516e-03 | 7.5970e-02 |      579202 |   142956000 |        10028 |      132000 |       284.2 |reached target block errors\n",
      "      6.0 | 6.0700e-04 | 1.0410e-02 |      131476 |   216600000 |         2082 |      200000 |       430.7 |reached max iter       \n",
      "      7.0 | 1.3218e-04 | 1.9950e-03 |       28631 |   216600000 |          399 |      200000 |       430.9 |reached max iter       \n",
      "      8.0 | 2.3430e-05 | 3.7500e-04 |        5075 |   216600000 |           75 |      200000 |       430.7 |reached max iter       \n",
      "      9.0 | 5.5910e-06 | 9.5000e-05 |        1211 |   216600000 |           19 |      200000 |       432.7 |reached max iter       \n",
      "     10.0 | 3.8273e-06 | 4.5000e-05 |         829 |   216600000 |            9 |      200000 |       431.9 |reached max iter       \n",
      "     11.0 | 9.2336e-08 | 5.0000e-06 |          20 |   216600000 |            1 |      200000 |       431.3 |reached max iter       \n",
      "     12.0 | 4.3398e-07 | 1.0000e-05 |          94 |   216600000 |            2 |      200000 |       430.6 |reached max iter       \n",
      "start_idx_a 171\n",
      "w 1.0\n",
      "[0.636 0.364]\n",
      "scaling 1.1307913849631168\n",
      "EbNo [dB] |        BER |       BLER |  bit errors |    num bits | block errors |  num blocks | runtime [s] |    status\n",
      "---------------------------------------------------------------------------------------------------------------------------------------\n",
      "      2.0 | 1.5079e-01 | 1.0000e+00 |     1560638 |    10350000 |        10000 |       10000 |        29.9 |reached target block errors\n",
      "      3.0 | 1.0784e-01 | 9.8550e-01 |     1339394 |    12420000 |        11826 |       12000 |        25.8 |reached target block errors\n",
      "      4.0 | 3.9279e-02 | 5.7761e-01 |      731768 |    18630000 |        10397 |       18000 |        38.7 |reached target block errors\n",
      "      5.0 | 5.6598e-03 | 9.8125e-02 |      609218 |   107640000 |        10205 |      104000 |       226.2 |reached target block errors\n",
      "      6.0 | 7.9820e-04 | 1.2445e-02 |      165228 |   207000000 |         2489 |      200000 |       433.0 |reached max iter       \n",
      "      7.0 | 1.6190e-04 | 2.2600e-03 |       33514 |   207000000 |          452 |      200000 |       430.8 |reached max iter       \n",
      "      8.0 | 4.2193e-05 | 5.4000e-04 |        8734 |   207000000 |          108 |      200000 |       431.1 |reached max iter       \n",
      "      9.0 | 1.0140e-05 | 1.1500e-04 |        2099 |   207000000 |           23 |      200000 |       431.4 |reached max iter       \n",
      "     10.0 | 1.5024e-06 | 2.0000e-05 |         311 |   207000000 |            4 |      200000 |       431.2 |reached max iter       \n",
      "     11.0 | 3.0048e-06 | 3.0000e-05 |         622 |   207000000 |            6 |      200000 |       431.0 |reached max iter       \n",
      "     12.0 | 1.3720e-06 | 1.5000e-05 |         284 |   207000000 |            3 |      200000 |       431.0 |reached max iter       \n",
      "start_idx_a 11\n",
      "w 1.0\n",
      "[0.5 0.5]\n",
      "scaling 1.0\n",
      "EbNo [dB] |        BER |       BLER |  bit errors |    num bits | block errors |  num blocks | runtime [s] |    status\n",
      "---------------------------------------------------------------------------------------------------------------------------------------\n",
      "      2.0 | 2.1531e-01 | 1.0000e+00 |     2125136 |     9870000 |        10000 |       10000 |        29.3 |reached target block errors\n",
      "      3.0 | 1.6886e-01 | 9.9700e-01 |     1999961 |    11844000 |        11964 |       12000 |        25.1 |reached target block errors\n",
      "      4.0 | 7.9063e-02 | 7.6000e-01 |     1092496 |    13818000 |        10640 |       14000 |        29.4 |reached target block errors\n",
      "      5.0 | 1.3695e-02 | 1.7923e-01 |      756962 |    55272000 |        10037 |       56000 |       116.9 |reached target block errors\n",
      "      6.0 | 1.8230e-03 | 2.2285e-02 |      359867 |   197400000 |         4457 |      200000 |       417.6 |reached max iter       \n",
      "      7.0 | 3.1685e-04 | 3.6800e-03 |       62546 |   197400000 |          736 |      200000 |       417.9 |reached max iter       \n",
      "      8.0 | 8.4828e-05 | 7.5000e-04 |       16745 |   197400000 |          150 |      200000 |       417.5 |reached max iter       \n",
      "      9.0 | 2.5724e-05 | 2.3500e-04 |        5078 |   197400000 |           47 |      200000 |       417.5 |reached max iter       \n",
      "     10.0 | 3.9514e-06 | 5.0000e-05 |         780 |   197400000 |           10 |      200000 |       418.7 |reached max iter       \n",
      "     11.0 | 3.3688e-06 | 2.0000e-05 |         665 |   197400000 |            4 |      200000 |       418.3 |reached max iter       \n"
     ]
    },
    {
     "name": "stdout",
     "output_type": "stream",
     "text": [
      "     12.0 | 2.1733e-06 | 1.0000e-05 |         429 |   197400000 |            2 |      200000 |       418.6 |reached max iter       \n"
     ]
    }
   ],
   "source": [
    "num_bits = 4\n",
    "n_sh = 256\n",
    "n_ldpc = 6\n",
    "ebno_dbs = np.arange(2, 13, 1) # 10\n",
    "\n",
    "max_mc_iter = 100\n",
    "batch_size = 1000\n",
    "num_target_block_errors = 10000\n",
    "\n",
    "ber_r_list = []\n",
    "bler_r_list = []\n",
    "legend_r_list = []\n",
    "    \n",
    "r = coderate_tab[5]\n",
    "ber_k_sh_list = []\n",
    "bler_k_sh_list = []\n",
    "legend_k_sh_list = []\n",
    "\n",
    "for k_sh in trange(128, 257, 16): #100, 801, 100\n",
    "\n",
    "    r_sh = k_sh / n_sh\n",
    "    r_fec = (2 * r - r_sh + 1) / 2\n",
    "\n",
    "    if r_fec > 11/12:\n",
    "        continue\n",
    "    model = CodedSystemOFDM(num_bits, n_sh, k_sh, n_ldpc, r,\n",
    "                            domain=UL_SIMS[\"domain\"],\n",
    "                            direction=UL_SIMS[\"direction\"],\n",
    "                            cdl_model=UL_SIMS[\"cdl_model\"],\n",
    "                            delay_spread=UL_SIMS[\"delay_spread\"],\n",
    "                            perfect_csi=UL_SIMS[\"perfect_csi\"],\n",
    "                            speed=UL_SIMS[\"speed\"],\n",
    "                            cyclic_prefix_length=UL_SIMS[\"cyclic_prefix_length\"],\n",
    "                            pilot_ofdm_symbol_indices=UL_SIMS[\"pilot_ofdm_symbol_indices\"])\n",
    "    \n",
    "    if model.start_idx_a >= 0:\n",
    "        legend_k_sh_list.append(k_sh)\n",
    "        ber_ps, bler_ps = sn.utils.sim_ber(model,\n",
    "                                           ebno_dbs,\n",
    "                                           batch_size=batch_size,\n",
    "                                           max_mc_iter=max_mc_iter,\n",
    "                                           num_target_block_errors=num_target_block_errors,\n",
    "                                           verbose=True)\n",
    "\n",
    "        ber_k_sh_list.append(ber_ps)\n",
    "        bler_k_sh_list.append(bler_ps)\n",
    "    \n",
    "legend_r_list.append(legend_k_sh_list) \n",
    "ber_r_list.append(ber_k_sh_list)\n",
    "bler_r_list.append(bler_k_sh_list)"
   ]
  },
  {
   "cell_type": "code",
   "execution_count": 20,
   "metadata": {},
   "outputs": [
    {
     "data": {
      "text/plain": [
       "4"
      ]
     },
     "execution_count": 20,
     "metadata": {},
     "output_type": "execute_result"
    }
   ],
   "source": [
    "num_bits"
   ]
  },
  {
   "cell_type": "markdown",
   "metadata": {},
   "source": [
    "## Saving Results"
   ]
  },
  {
   "cell_type": "code",
   "execution_count": 21,
   "metadata": {},
   "outputs": [],
   "source": [
    "# np.save(f\"history/bler_r_list_OFDM_D_Uplink_Time_QAM{2 ** num_bits}_PSCodedBLER_Coderate_{r}_Block_{model.encoder.n}.npy\", bler_r_list, allow_pickle=True)\n",
    "# np.save(f\"history/ber_r_list_OFDM_D_Uplink_Time_QAM{2 ** num_bits}_PSCodedBLER_Coderate_{r}_Block_{model.encoder.n}.npy\", ber_r_list, allow_pickle=True)\n",
    "# np.save(f\"history/legend_r_list_OFDM_D_Uplink_Time_QAM{2 ** num_bits}_PSCodedBLER_Coderate_{r}_Block_{model.encoder.n}.npy\", legend_r_list, allow_pickle=True)"
   ]
  },
  {
   "cell_type": "markdown",
   "metadata": {},
   "source": [
    "# Loading Saved Experiments"
   ]
  },
  {
   "cell_type": "code",
   "execution_count": 33,
   "metadata": {},
   "outputs": [],
   "source": [
    "legend_r_list = np.load(f\"history/legend_r_list_OFDM_D_Uplink_Time_QAM16_PSCodedBLER_Coderate_0.642578125_Block_1536.npy\", allow_pickle=True).tolist()\n",
    "bler_r_list = np.load(f\"history/bler_r_list_OFDM_D_Uplink_Time_QAM16_PSCodedBLER_Coderate_0.642578125_Block_1536.npy\", allow_pickle=True).tolist()\n",
    "ber_r_list = np.load(f\"history/ber_r_list_OFDM_D_Uplink_Time_QAM16_PSCodedBLER_Coderate_0.642578125_Block_1536.npy\", allow_pickle=True).tolist()"
   ]
  },
  {
   "cell_type": "code",
   "execution_count": 34,
   "metadata": {},
   "outputs": [],
   "source": [
    "ebno_dbs = np.arange(2, 14, 1)"
   ]
  },
  {
   "cell_type": "code",
   "execution_count": 35,
   "metadata": {},
   "outputs": [
    {
     "data": {
      "text/plain": [
       "(12,)"
      ]
     },
     "execution_count": 35,
     "metadata": {},
     "output_type": "execute_result"
    }
   ],
   "source": [
    "ebno_dbs.shape"
   ]
  },
  {
   "cell_type": "code",
   "execution_count": 45,
   "metadata": {},
   "outputs": [],
   "source": [
    "str_legend_r_list = []\n",
    "for legend_k_sh_list in legend_r_list:\n",
    "    str_legend_k_sh_list = []\n",
    "    for k_sh in legend_k_sh_list[:-1]:\n",
    "        str_legend_k_sh_list.append(r\"QAM PS $k_{sh}$=\" + str(k_sh))\n",
    "    str_legend_k_sh_list.append(\"QAM Baseline $k_{sh}$=\" + str(n_sh))\n",
    "    str_legend_r_list.append(str_legend_k_sh_list)"
   ]
  },
  {
   "cell_type": "code",
   "execution_count": 46,
   "metadata": {},
   "outputs": [
    {
     "data": {
      "text/plain": [
       "[['QAM PS $k_{sh}$=128',\n",
       "  'QAM PS $k_{sh}$=144',\n",
       "  'QAM PS $k_{sh}$=160',\n",
       "  'QAM PS $k_{sh}$=176',\n",
       "  'QAM PS $k_{sh}$=192',\n",
       "  'QAM PS $k_{sh}$=208',\n",
       "  'QAM PS $k_{sh}$=224',\n",
       "  'QAM PS $k_{sh}$=240',\n",
       "  'QAM Baseline $k_{sh}$=256']]"
      ]
     },
     "execution_count": 46,
     "metadata": {},
     "output_type": "execute_result"
    }
   ],
   "source": [
    "str_legend_r_list"
   ]
  },
  {
   "cell_type": "code",
   "execution_count": 48,
   "metadata": {},
   "outputs": [
    {
     "data": {
      "image/png": "[encoded data removed]",
      "text/plain": [
       "<Figure size 1152x720 with 1 Axes>"
      ]
     },
     "metadata": {
      "needs_background": "light"
     },
     "output_type": "display_data"
    }
   ],
   "source": [
    "for bler_k_sh_list, legend_k_sh_list, r in zip(bler_r_list, str_legend_r_list, [coderate_tab[5]]):\n",
    "    sn.utils.plotting.plot_ber(ebno_dbs[:ebno_dbs.shape[0] // 2],\n",
    "                               np.asarray(bler_k_sh_list)[[0, 1, 4, 6, 8], :ebno_dbs.shape[0] // 2] .tolist(),\n",
    "                               np.array(legend_k_sh_list)[[0, 1, 4, 6, 8]].tolist(),\n",
    "                               \"LDPC Coded BLER\",\n",
    "                               fr\"OFDM Model D LOS Uplink QAM16: $r$ = ${round(r, 2)}$ \"+ \n",
    "                               fr\"$n$ = {model.encoder.n}\" + r\" $n_{sh}=$ \" + f\"{n_sh}\");\n",
    "#     plt.savefig(f\"images/Paper_OFDM_D_Uplink_Time_QAM{2 ** num_bits}_PSCodedBLER_Coderate_{r}_Block_{model.encoder.n}.pdf\",\n",
    "#                   dpi=400, bbox_inches='tight')"
   ]
  },
  {
   "cell_type": "markdown",
   "metadata": {},
   "source": [
    "### Conclusion\n",
    "\n",
    "We hope you are excited about Sionna - there is much more to be discovered:\n",
    "\n",
    "- TensorBoard debugging available\n",
    "- Scaling to multi-GPU simulation is simple\n",
    "- See the [available tutorials](https://nvlabs.github.io/sionna/tutorials.html) for more advanced examples.\n",
    "\n",
    "And if something is still missing - the project is [open-source](https://github.com/nvlabs/sionna/):  you can modify, add, and extend any component at any time."
   ]
  }
 ],
 "metadata": {
  "interpreter": {
   "hash": "31f2aee4e71d21fbe5cf8b01ff0e069b9275f58929596ceb00d14d90e3e16cd6"
  },
  "kernelspec": {
   "display_name": "Python 3",
   "language": "python",
   "name": "python3"
  },
  "language_info": {
   "codemirror_mode": {
    "name": "ipython",
    "version": 3
   },
   "file_extension": ".py",
   "mimetype": "text/x-python",
   "name": "python",
   "nbconvert_exporter": "python",
   "pygments_lexer": "ipython3",
   "version": "3.8.3"
  }
 },
 "nbformat": 4,
 "nbformat_minor": 4
}
